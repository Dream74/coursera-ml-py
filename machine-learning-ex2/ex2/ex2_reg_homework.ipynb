{
 "cells": [
  {
   "cell_type": "code",
   "execution_count": 1,
   "metadata": {},
   "outputs": [],
   "source": [
    "import pandas as pd\n",
    "import matplotlib.pyplot as plt\n",
    "import numpy as np\n",
    "import scipy.optimize as opt\n",
    "\n",
    "# import matplotlib.pyplot as plt\n",
    "# import numpy as np\n",
    "# import scipy.optimize as opt\n",
    "# from plotData import *\n",
    "# import costFunctionReg as cfr\n",
    "# import plotDecisionBoundary as pdb\n",
    "# import predict as predict"
   ]
  },
  {
   "cell_type": "code",
   "execution_count": 2,
   "metadata": {},
   "outputs": [],
   "source": [
    "# Load csv file without column name\n",
    "df = pd.read_csv('./ex2data2.txt', names=['test-1', 'test-2', 'label'])"
   ]
  },
  {
   "cell_type": "code",
   "execution_count": 3,
   "metadata": {},
   "outputs": [],
   "source": [
    "X = df.loc[:, ['test-1', 'test-2']]\n",
    "y = df.loc[:, 'label']\n",
    "\n",
    "# row number and column number\n",
    "m, n = df.iloc[:, :-1].shape\n",
    "\n",
    "# dataframe to numpy matrix \n",
    "X = df.loc[:, ['test-1', 'test-2']]"
   ]
  },
  {
   "cell_type": "code",
   "execution_count": 4,
   "metadata": {},
   "outputs": [
    {
     "data": {
      "text/plain": [
       "<matplotlib.legend.Legend at 0x117d373c8>"
      ]
     },
     "execution_count": 4,
     "metadata": {},
     "output_type": "execute_result"
    },
    {
     "data": {
      "image/png": "[encoded data removed]",
      "text/plain": [
       "<Figure size 720x720 with 1 Axes>"
      ]
     },
     "metadata": {},
     "output_type": "display_data"
    }
   ],
   "source": [
    "plt.figure(figsize=(10, 10))\n",
    "plt.scatter(\n",
    "    df.loc[df.label == 1, ['test-1']],\n",
    "    df.loc[df.label == 1, ['test-2']],\n",
    "    marker='+',\n",
    "    color='black',\n",
    "    label='y = 1'\n",
    ")\n",
    "\n",
    "plt.scatter(\n",
    "    df.loc[df.label == 0, ['test-1']],\n",
    "    df.loc[df.label == 0, ['test-2']],\n",
    "    marker='o',\n",
    "    color='y',\n",
    "    label='y = 0'\n",
    ")\n",
    "\n",
    "plt.xlabel('Microchip Test-1')\n",
    "plt.ylabel('Microchip Test-2')\n",
    "plt.legend()"
   ]
  },
  {
   "cell_type": "code",
   "execution_count": 6,
   "metadata": {},
   "outputs": [],
   "source": [
    "def map_feature(x1, x2):\n",
    "    degree = 6\n",
    "\n",
    "    x1 = x1.reshape((x1.size, 1))\n",
    "    x2 = x2.reshape((x2.size, 1))\n",
    "    result = np.ones(x1[:, 0].shape)\n",
    "\n",
    "    for i in range(1, degree + 1):\n",
    "        for j in range(0, i + 1):\n",
    "            result = np.c_[result, (x1**(i-j)) * (x2**j)]\n",
    "\n",
    "    return result\n"
   ]
  },
  {
   "cell_type": "code",
   "execution_count": 7,
   "metadata": {},
   "outputs": [],
   "source": [
    "\n",
    "# ===================== Part 1: Regularized Logistic Regression =====================\n",
    "# In this part, you are given a dataset with data points that are not\n",
    "# linearly separable. However, you would still like to use logistic\n",
    "# regression to classify the data points.\n",
    "\n",
    "# To do so, you introduce more feature to use -- in particular, you add\n",
    "# polynomial features to our data matrix (similar to polynomial regression)\n",
    "#\n",
    "\n",
    "# Add polynomial features\n",
    "\n",
    "# Note that mapFeature also adds a column of ones for us, so the intercept\n",
    "# term is handled\n",
    "\n",
    "X = map_feature(X.iloc[:, 0].values, X.iloc[:, 1].values)"
   ]
  },
  {
   "cell_type": "code",
   "execution_count": 9,
   "metadata": {},
   "outputs": [],
   "source": [
    "# Initialize fitting parameters\n",
    "initial_theta = np.zeros(X.shape[1])\n",
    "\n",
    "# Set regularization parameter lambda to 1\n",
    "lmd = 1"
   ]
  },
  {
   "cell_type": "code",
   "execution_count": 10,
   "metadata": {},
   "outputs": [],
   "source": [
    "# sigmoid function\n",
    "sigmoid_func = lambda x: 1 / (1 + np.exp(-x))\n",
    "# sigmoid_func = lambda x: np.exp(x) / (np.exp(x)+1)"
   ]
  },
  {
   "cell_type": "code",
   "execution_count": 11,
   "metadata": {},
   "outputs": [],
   "source": [
    "# hypothesis function \n",
    "h_func = lambda theta, X: sigmoid_func(theta @ X.transpose()) "
   ]
  },
  {
   "cell_type": "code",
   "execution_count": 12,
   "metadata": {},
   "outputs": [],
   "source": [
    "def cost_function_reg(theta, X, y, lmd):\n",
    "    cost = 0\n",
    "    grad = np.zeros(theta.shape)\n",
    "\n",
    "    # ===================== Your Code Here =====================\n",
    "    # Instructions : Compute the cost of a particular choice of theta\n",
    "    #                You should set cost and grad correctly.\n",
    "    #\n",
    "    cost = (-y @ np.log(h_func(theta, X)) - (1-y) @ np.log((1-h_func(theta, X)))) / m  + (theta @ theta) * lmd / (2*m) \n",
    "    \n",
    "    for idx in range(theta.size):\n",
    "        grad[idx] += ((h_func(theta, X) - y) @ X[:, idx]) / m + (0 if idx == 0 else lmd * theta[idx] / m)\n",
    "    \n",
    "    # ===========================================================\n",
    "\n",
    "    return cost, grad\n"
   ]
  },
  {
   "cell_type": "code",
   "execution_count": 13,
   "metadata": {},
   "outputs": [
    {
     "name": "stdout",
     "output_type": "stream",
     "text": [
      "Cost at initial theta (zeros): 0.6931471805599453\n",
      "Expected cost (approx): 0.693\n",
      "Gradient at initial theta (zeros) - first five values only: \n",
      "[8.47457627e-03 1.87880932e-02 7.77711864e-05 5.03446395e-02\n",
      " 1.15013308e-02]\n",
      "Expected gradients (approx) - first five values only: \n",
      " 0.0085\n",
      " 0.0188\n",
      " 0.0001\n",
      " 0.0503\n",
      " 0.0115\n"
     ]
    }
   ],
   "source": [
    "# Compute and display initial cost and gradient for regularized logistic regression\n",
    "cost, grad = cost_function_reg(initial_theta, X, y, lmd)\n",
    "\n",
    "# np.set_printoptions(formatter={'float': '{: 0.4f}\\n'.format})\n",
    "print('Cost at initial theta (zeros): {}'.format(cost))\n",
    "print('Expected cost (approx): 0.693')\n",
    "print('Gradient at initial theta (zeros) - first five values only: \\n{}'.format(grad[0:5]))\n",
    "print('Expected gradients (approx) - first five values only: \\n 0.0085\\n 0.0188\\n 0.0001\\n 0.0503\\n 0.0115')"
   ]
  },
  {
   "cell_type": "code",
   "execution_count": 14,
   "metadata": {},
   "outputs": [
    {
     "name": "stdout",
     "output_type": "stream",
     "text": [
      "Cost at test theta: 2.1390856028014507\n",
      "Expected cost (approx): 2.13\n",
      "Gradient at test theta - first five values only: \n",
      "[0.34604507 0.08508073 0.11852457 0.1505916  0.01591449]\n",
      "Expected gradients (approx) - first five values only: \n",
      " 0.3460\n",
      " 0.0851\n",
      " 0.1185\n",
      " 0.1506\n",
      " 0.0159\n"
     ]
    }
   ],
   "source": [
    "# Compute and display cost and gradient with non-zero theta\n",
    "test_theta = np.ones(X.shape[1])\n",
    "\n",
    "cost, grad = cost_function_reg(test_theta, X, y, lmd)\n",
    "\n",
    "print('Cost at test theta: {}'.format(cost))\n",
    "print('Expected cost (approx): 2.13')\n",
    "print('Gradient at test theta - first five values only: \\n{}'.format(grad[0:5]))\n",
    "print('Expected gradients (approx) - first five values only: \\n 0.3460\\n 0.0851\\n 0.1185\\n 0.1506\\n 0.0159')"
   ]
  },
  {
   "cell_type": "code",
   "execution_count": 15,
   "metadata": {},
   "outputs": [],
   "source": [
    "# ===================== Part 2: Regularization and Accuracies =====================\n",
    "# Optional Exercise:\n",
    "# In this part, you will get to try different values of lambda and\n",
    "# see how regularization affects the decision boundary\n",
    "#\n",
    "# Try the following values of lambda (0, 1, 10, 100).\n",
    "#\n",
    "# How does the decision boundary change when you vary lambda? How does\n",
    "# the training set accuracy vary?\n",
    "#\n",
    "\n",
    "# Initializa fitting parameters\n",
    "initial_theta = np.zeros(X.shape[1])\n",
    "\n",
    "# Set regularization parameter lambda to 1 (you should vary this)\n",
    "lmd = 1\n",
    "\n",
    "# Optimize\n",
    "def cost_func(t):\n",
    "    return cost_function_reg(t, X, y, lmd)[0]\n",
    "\n",
    "def grad_func(t):\n",
    "    return cost_function_reg(t, X, y, lmd)[1]\n",
    "\n",
    "theta, cost, *unused = opt.fmin_bfgs(f=cost_func, fprime=grad_func, x0=initial_theta, maxiter=400, full_output=True, disp=False)\n"
   ]
  },
  {
   "cell_type": "code",
   "execution_count": 17,
   "metadata": {},
   "outputs": [],
   "source": [
    "def plot_decision_boundary(theta, X, y):\n",
    "    # plot_data(X[:, 1:3], y)\n",
    "\n",
    "    if X.shape[1] <= 3:\n",
    "        # Only need two points to define a line, so choose two endpoints\n",
    "        plot_x = np.array([np.min(X[:, 1]) - 2, np.max(X[:, 1]) + 2])\n",
    "\n",
    "        # Calculate the decision boundary line\n",
    "        plot_y = (-1/theta[2]) * (theta[1]*plot_x + theta[0])\n",
    "\n",
    "        plt.plot(plot_x, plot_y)\n",
    "\n",
    "        plt.legend(['Decision Boundary', 'Admitted', 'Not admitted'], loc=1)\n",
    "        plt.axis([30, 100, 30, 100])\n",
    "    else:\n",
    "        # Here is the grid range\n",
    "        u = np.linspace(-1, 1.5, 50)\n",
    "        v = np.linspace(-1, 1.5, 50)\n",
    "\n",
    "        z = np.zeros((u.size, v.size))\n",
    "\n",
    "        # Evaluate z = theta*x over the grid\n",
    "        for i in range(0, u.size):\n",
    "            for j in range(0, v.size):\n",
    "                z[i, j] = np.dot(map_feature(u[i], v[j]), theta)\n",
    "\n",
    "        z = z.T\n",
    "\n",
    "        # Plot z = 0\n",
    "        # Notice you need to specify the range [0, 0]\n",
    "        cs = plt.contour(u, v, z, levels=[0], colors='g', label='Decision Boundary', alpha=0.6)\n",
    "        plt.legend([cs.collections[0]], ['Decision Boundary'])\n"
   ]
  },
  {
   "cell_type": "code",
   "execution_count": 18,
   "metadata": {},
   "outputs": [
    {
     "name": "stdout",
     "output_type": "stream",
     "text": [
      "Plotting decision boundary ...\n"
     ]
    },
    {
     "name": "stderr",
     "output_type": "stream",
     "text": [
      "/Users/dream/.pyenv/versions/3.6.5/lib/python3.6/site-packages/matplotlib/contour.py:1000: UserWarning: The following kwargs were not used by contour: 'label'\n",
      "  s)\n"
     ]
    },
    {
     "data": {
      "text/plain": [
       "Text(0, 0.5, 'Microchip Test 2')"
      ]
     },
     "execution_count": 18,
     "metadata": {},
     "output_type": "execute_result"
    },
    {
     "data": {
      "image/png": "[encoded data removed]",
      "text/plain": [
       "<Figure size 720x720 with 1 Axes>"
      ]
     },
     "metadata": {},
     "output_type": "display_data"
    }
   ],
   "source": [
    "\n",
    "# Plot boundary\n",
    "print('Plotting decision boundary ...')\n",
    "\n",
    "plt.figure(figsize=(10, 10))\n",
    "plt.scatter(\n",
    "    df.loc[df.label == 1, ['test-1']],\n",
    "    df.loc[df.label == 1, ['test-2']],\n",
    "    marker='+',\n",
    "    color='black',\n",
    "    label='y = 1'\n",
    ")\n",
    "\n",
    "plt.scatter(\n",
    "    df.loc[df.label == 0, ['test-1']],\n",
    "    df.loc[df.label == 0, ['test-2']],\n",
    "    marker='o',\n",
    "    color='y',\n",
    "    label='y = 0'\n",
    ")\n",
    "\n",
    "\n",
    "plot_decision_boundary(theta, X, y)\n",
    "\n",
    "\n",
    "plt.title('lambda = {}'.format(lmd))\n",
    "\n",
    "plt.xlabel('Microchip Test 1')\n",
    "plt.ylabel('Microchip Test 2')\n"
   ]
  },
  {
   "cell_type": "code",
   "execution_count": 19,
   "metadata": {},
   "outputs": [],
   "source": [
    "def predict(theta, X):\n",
    "    # ===================== Your Code Here =====================\n",
    "    # Instructions : Complete the following code to make predictions using\n",
    "    #                your learned logistic regression parameters.\n",
    "    #                You should set p to a 1D-array of 0's and 1's\n",
    "    #\n",
    "\n",
    "    p = 1 * (0.5 <= sigmoid_func(theta @ X.transpose()))\n",
    "    # ===========================================================\n",
    "\n",
    "    return p\n"
   ]
  },
  {
   "cell_type": "code",
   "execution_count": 20,
   "metadata": {},
   "outputs": [
    {
     "name": "stdout",
     "output_type": "stream",
     "text": [
      "Train Accuracy: 83.0508\n",
      "Expected accuracy (with lambda = 1): 83.1 (approx)\n"
     ]
    }
   ],
   "source": [
    "\n",
    "# Compute accuracy on our training set\n",
    "p = predict(theta, X)\n",
    "\n",
    "print('Train Accuracy: {:0.4f}'.format(np.mean(y == p) * 100))\n",
    "print('Expected accuracy (with lambda = 1): 83.1 (approx)')"
   ]
  }
 ],
 "metadata": {
  "kernelspec": {
   "display_name": "Python 3",
   "language": "python",
   "name": "python3"
  },
  "language_info": {
   "codemirror_mode": {
    "name": "ipython",
    "version": 3
   },
   "file_extension": ".py",
   "mimetype": "text/x-python",
   "name": "python",
   "nbconvert_exporter": "python",
   "pygments_lexer": "ipython3",
   "version": "3.6.5"
  }
 },
 "nbformat": 4,
 "nbformat_minor": 2
}
